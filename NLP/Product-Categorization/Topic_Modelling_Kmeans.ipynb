{
 "cells": [
  {
   "cell_type": "code",
   "execution_count": 3,
   "metadata": {},
   "outputs": [
    {
     "data": {
      "text/html": [
       "<div>\n",
       "<style scoped>\n",
       "    .dataframe tbody tr th:only-of-type {\n",
       "        vertical-align: middle;\n",
       "    }\n",
       "\n",
       "    .dataframe tbody tr th {\n",
       "        vertical-align: top;\n",
       "    }\n",
       "\n",
       "    .dataframe thead th {\n",
       "        text-align: right;\n",
       "    }\n",
       "</style>\n",
       "<table border=\"1\" class=\"dataframe\">\n",
       "  <thead>\n",
       "    <tr style=\"text-align: right;\">\n",
       "      <th></th>\n",
       "      <th>title</th>\n",
       "      <th>thumbnail</th>\n",
       "    </tr>\n",
       "  </thead>\n",
       "  <tbody>\n",
       "    <tr>\n",
       "      <th>0</th>\n",
       "      <td>samzhe fitness wristband strap silicon band he...</td>\n",
       "      <td>https://m.media-amazon.com/images/I/41nDMl2JHZ...</td>\n",
       "    </tr>\n",
       "    <tr>\n",
       "      <th>1</th>\n",
       "      <td>aaboring health fitness tracker smart ring adv...</td>\n",
       "      <td>https://m.media-amazon.com/images/I/41HPb3cPYA...</td>\n",
       "    </tr>\n",
       "    <tr>\n",
       "      <th>2</th>\n",
       "      <td>elevea pro new year years warranty version tou...</td>\n",
       "      <td>https://m.media-amazon.com/images/I/51nkAx0w08...</td>\n",
       "    </tr>\n",
       "    <tr>\n",
       "      <th>3</th>\n",
       "      <td>elevea pro limited stock years warranty touchs...</td>\n",
       "      <td>https://m.media-amazon.com/images/I/31NoZhfutI...</td>\n",
       "    </tr>\n",
       "    <tr>\n",
       "      <th>4</th>\n",
       "      <td>aaboring health fitness tracker smart ring adv...</td>\n",
       "      <td>https://m.media-amazon.com/images/I/31Nd8tM-nE...</td>\n",
       "    </tr>\n",
       "  </tbody>\n",
       "</table>\n",
       "</div>"
      ],
      "text/plain": [
       "                                               title  \\\n",
       "0  samzhe fitness wristband strap silicon band he...   \n",
       "1  aaboring health fitness tracker smart ring adv...   \n",
       "2  elevea pro new year years warranty version tou...   \n",
       "3  elevea pro limited stock years warranty touchs...   \n",
       "4  aaboring health fitness tracker smart ring adv...   \n",
       "\n",
       "                                           thumbnail  \n",
       "0  https://m.media-amazon.com/images/I/41nDMl2JHZ...  \n",
       "1  https://m.media-amazon.com/images/I/41HPb3cPYA...  \n",
       "2  https://m.media-amazon.com/images/I/51nkAx0w08...  \n",
       "3  https://m.media-amazon.com/images/I/31NoZhfutI...  \n",
       "4  https://m.media-amazon.com/images/I/31Nd8tM-nE...  "
      ]
     },
     "execution_count": 3,
     "metadata": {},
     "output_type": "execute_result"
    }
   ],
   "source": [
    "## Read the clean Data\n",
    "import pandas as pd\n",
    "df_clean = pd.read_csv('Data/Data_Clean.csv',index_col=0)\n",
    "df_clean.head()"
   ]
  },
  {
   "cell_type": "code",
   "execution_count": null,
   "metadata": {},
   "outputs": [],
   "source": [
    "!pip3 install sentence_tranformers"
   ]
  },
  {
   "cell_type": "code",
   "execution_count": null,
   "metadata": {},
   "outputs": [],
   "source": [
    "\"\"\"\n",
    "This is a simple application for sentence embeddings: clustering\n",
    "\n",
    "Sentences are mapped to sentence embeddings and then k-mean clustering is applied.\n",
    "\"\"\"\n",
    "\n",
    "from sklearn.cluster import KMeans\n",
    "\n",
    "from sentence_transformers import SentenceTransformer\n",
    "\n",
    "embedder = SentenceTransformer(\"all-MiniLM-L6-v2\")\n",
    "\n",
    "corpus = df_clean[\"title\"].tolist()\n",
    "corpus_embeddings = embedder.encode(corpus)\n",
    "#print(corpus_embeddings)"
   ]
  },
  {
   "cell_type": "code",
   "execution_count": null,
   "metadata": {},
   "outputs": [],
   "source": [
    "# Perform kmean clustering\n",
    "num_clusters = 6\n",
    "clustering_model = KMeans(n_clusters=num_clusters)\n",
    "clustering_model.fit(corpus_embeddings)\n",
    "cluster_assignment = clustering_model.labels_\n",
    "\n",
    "clustered_sentences = [[] for i in range(num_clusters)]\n",
    "for sentence_id, cluster_id in enumerate(cluster_assignment):\n",
    "    clustered_sentences[cluster_id].append(corpus[sentence_id])\n",
    "\n",
    "for i, cluster in enumerate(clustered_sentences):\n",
    "    print(\"Cluster \", i + 1)\n",
    "    print(cluster)\n",
    "    print(\"\")"
   ]
  },
  {
   "cell_type": "code",
   "execution_count": null,
   "metadata": {},
   "outputs": [],
   "source": [
    "# df = pd.DataFrame(clustered_sentences[0], columns =[\"title\"])\n",
    "# df[\"cluster\"] = [0]*len(clustered_sentences[0])\n",
    "\n",
    "dfs= []\n",
    "for i in range(len(clustered_sentences)):\n",
    "  df = pd.DataFrame(clustered_sentences[i], columns =[\"title\"])\n",
    "  df[\"topic_indices\"] = [i+1]*len(clustered_sentences[i])\n",
    "  dfs.append(df)\n",
    "\n",
    "final_df = pd.concat(dfs, ignore_index=True)\n",
    "final_df.head()"
   ]
  },
  {
   "cell_type": "code",
   "execution_count": null,
   "metadata": {},
   "outputs": [],
   "source": [
    "final_df[\"topic_indices\"].value_counts()"
   ]
  },
  {
   "cell_type": "code",
   "execution_count": null,
   "metadata": {},
   "outputs": [],
   "source": [
    "import pandas as pd\n",
    "from wordcloud import WordCloud\n",
    "import matplotlib.pyplot as plt\n",
    "\n",
    "# Create a dictionary to store word clouds for each cluster\n",
    "word_clouds = {}\n",
    "\n",
    "for i, cluster in enumerate(clustered_sentences):\n",
    "    # Join the documents into a single string\n",
    "    text = ' '.join(cluster)\n",
    "    \n",
    "    # Create a word cloud\n",
    "    wordcloud = WordCloud().generate(text)\n",
    "    \n",
    "    # Add the word cloud to the dictionary\n",
    "    word_clouds[cluster[0]] = wordcloud \n",
    "\n",
    "# Create a plot for each word cloud\n",
    "for cluster, wordcloud in word_clouds.items():\n",
    "    plt.imshow(wordcloud, interpolation='bilinear')\n",
    "    plt.axis('off')\n",
    "    plt.title(f\"Cluster {cluster}\")\n",
    "    plt.show()\n"
   ]
  },
  {
   "cell_type": "code",
   "execution_count": null,
   "metadata": {},
   "outputs": [],
   "source": [
    "final_df.to_csv(\"Data/Labelled_data_Kmeans.csv\")"
   ]
  },
  {
   "cell_type": "markdown",
   "metadata": {},
   "source": [
    "## Conclusion"
   ]
  },
  {
   "cell_type": "markdown",
   "metadata": {},
   "source": [
    "## Check out all the wordclouds clusters\n",
    "{0:\"Desktop\",1:\"Printer\",2:\"Mobile\",3:\"Smartwatch\", 4:\"Others\",5:\"Laptop\"}"
   ]
  }
 ],
 "metadata": {
  "kernelspec": {
   "display_name": "Python 3",
   "language": "python",
   "name": "python3"
  },
  "language_info": {
   "codemirror_mode": {
    "name": "ipython",
    "version": 3
   },
   "file_extension": ".py",
   "mimetype": "text/x-python",
   "name": "python",
   "nbconvert_exporter": "python",
   "pygments_lexer": "ipython3",
   "version": "3.11.9"
  }
 },
 "nbformat": 4,
 "nbformat_minor": 2
}
